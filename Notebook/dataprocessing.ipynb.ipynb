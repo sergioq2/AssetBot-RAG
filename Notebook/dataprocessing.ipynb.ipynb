{
 "cells": [
  {
   "cell_type": "code",
   "execution_count": 8,
   "id": "9e3b07bb",
   "metadata": {},
   "outputs": [
    {
     "name": "stderr",
     "output_type": "stream",
     "text": [
      "/home/ec2-user/anaconda3/envs/python3/lib/python3.10/site-packages/pandas/core/computation/expressions.py:21: UserWarning: Pandas requires version '2.8.0' or newer of 'numexpr' (version '2.7.3' currently installed).\n",
      "  from pandas.core.computation.check import NUMEXPR_INSTALLED\n"
     ]
    }
   ],
   "source": [
    "from opensearchpy import OpenSearch, RequestsHttpConnection\n",
    "from requests_aws4auth import AWS4Auth\n",
    "import botocore\n",
    "import boto3\n",
    "import time\n",
    "from opensearchpy import RequestsHttpConnection, AWSV4SignerAuth\n",
    "from langchain.vectorstores import OpenSearchVectorSearch\n",
    "import nltk\n",
    "from nltk.tokenize import sent_tokenize, word_tokenize\n",
    "from nltk.corpus import stopwords\n",
    "from langchain.text_splitter import MarkdownHeaderTextSplitter\n",
    "import os\n",
    "import pandas as pd\n",
    "from io import StringIO\n",
    "import math\n",
    "from langchain.document_loaders import DataFrameLoader\n",
    "from langchain.vectorstores import OpenSearchVectorSearch\n",
    "from langchain.prompts import PromptTemplate\n",
    "from langchain import LLMChain\n",
    "from langchain.chains import RetrievalQA\n",
    "from langchain.llms import Bedrock\n",
    "from langchain.prompts import ChatPromptTemplate\n",
    "from PyPDF2 import PdfReader\n",
    "from IPython.display import Markdown\n",
    "from langchain.text_splitter import RecursiveCharacterTextSplitter\n",
    "from langchain.document_loaders import PyPDFLoader,DirectoryLoader\n",
    "from langchain.chains import RetrievalQA\n",
    "from langchain.chains import LLMChain\n",
    "from langchain.prompts import PromptTemplate\n",
    "from langchain.llms import Bedrock\n",
    "from langchain.document_loaders import Docx2txtLoader\n",
    "from langchain.document_loaders import TextLoader\n",
    "from langchain.document_loaders import PyPDFDirectoryLoader\n",
    "import json\n",
    "from langchain_community.document_loaders import S3DirectoryLoader"
   ]
  },
  {
   "cell_type": "code",
   "execution_count": 9,
   "id": "231e8053",
   "metadata": {},
   "outputs": [],
   "source": [
    "client = boto3.client('opensearchserverless')\n",
    "service = 'aoss'\n",
    "region = 'us-east-1'\n",
    "credentials = boto3.Session().get_credentials()\n",
    "awsauth = AWS4Auth(credentials.access_key, credentials.secret_key,\n",
    "                   region, service, session_token=credentials.token)"
   ]
  },
  {
   "cell_type": "code",
   "execution_count": 10,
   "id": "e76048b8",
   "metadata": {},
   "outputs": [],
   "source": [
    "client = boto3.client('opensearchserverless', region_name=region)"
   ]
  },
  {
   "cell_type": "code",
   "execution_count": 11,
   "id": "ddfae290",
   "metadata": {
    "scrolled": true
   },
   "outputs": [
    {
     "name": "stdout",
     "output_type": "stream",
     "text": [
      "[ConflictException] The policy name or rules conflict with an existing policy.\n",
      "[ConflictException] A network policy with this name already exists.\n",
      "[ConflictException] An access policy with this name already exists.\n",
      "Creating collection...\n",
      "Creating collection...\n",
      "Creating collection...\n",
      "Creating collection...\n",
      "Creating collection...\n",
      "Creating collection...\n",
      "Creating collection...\n",
      "Creating collection...\n",
      "Creating collection...\n",
      "Creating collection...\n",
      "Creating collection...\n",
      "Creating collection...\n",
      "\n",
      "Collection successfully created:\n",
      "[{'arn': 'arn:aws:aoss:us-east-1:646932767172:collection/zycg86yzxkvuq5dthaa8', 'collectionEndpoint': 'https://zycg86yzxkvuq5dthaa8.us-east-1.aoss.amazonaws.com', 'createdDate': 1709126258779, 'dashboardEndpoint': 'https://zycg86yzxkvuq5dthaa8.us-east-1.aoss.amazonaws.com/_dashboards', 'id': 'zycg86yzxkvuq5dthaa8', 'kmsKeyArn': 'auto', 'lastModifiedDate': 1709126617971, 'name': 'rag-maintenance-collection', 'standbyReplicas': 'ENABLED', 'status': 'ACTIVE', 'type': 'VECTORSEARCH'}]\n",
      "host zycg86yzxkvuq5dthaa8.us-east-1.aoss.amazonaws.com\n"
     ]
    }
   ],
   "source": [
    "def createEncryptionPolicy(client):\n",
    "    try:\n",
    "        response = client.create_security_policy(\n",
    "            description='Encryption policy for RAG collections',\n",
    "            name='rag-policy',\n",
    "            policy=\"\"\"\n",
    "                {\n",
    "                    \\\"Rules\\\":[\n",
    "                        {\n",
    "                            \\\"ResourceType\\\":\\\"collection\\\",\n",
    "                            \\\"Resource\\\":[\n",
    "                                \\\"collection\\/rag-*\\\"\n",
    "                            ]\n",
    "                        }\n",
    "                    ],\n",
    "                    \\\"AWSOwnedKey\\\":true\n",
    "                }\n",
    "                \"\"\",\n",
    "            type='encryption'\n",
    "        )\n",
    "        print('\\nEncryption policy created:')\n",
    "        print(response)\n",
    "    except botocore.exceptions.ClientError as error:\n",
    "        if error.response['Error']['Code'] == 'ConflictException':\n",
    "            print(\n",
    "                '[ConflictException] The policy name or rules conflict with an existing policy.')\n",
    "        else:\n",
    "            raise error\n",
    "\n",
    "\n",
    "def createNetworkPolicy(client):\n",
    "    try:\n",
    "        response = client.create_security_policy(\n",
    "            description='Network policy for RAG collections',\n",
    "            name='rag-policy',\n",
    "            policy=\"\"\"\n",
    "                [{\n",
    "                    \\\"Description\\\":\\\"Public access for rag collection\\\",\n",
    "                    \\\"Rules\\\":[\n",
    "                        {\n",
    "                            \\\"ResourceType\\\":\\\"dashboard\\\",\n",
    "                            \\\"Resource\\\":[\\\"collection\\/rag-*\\\"]\n",
    "                        },\n",
    "                        {\n",
    "                            \\\"ResourceType\\\":\\\"collection\\\",\n",
    "                            \\\"Resource\\\":[\\\"collection\\/rag-*\\\"]\n",
    "                        }\n",
    "                    ],\n",
    "                    \\\"AllowFromPublic\\\":true\n",
    "                }]\n",
    "                \"\"\",\n",
    "            type='network'\n",
    "        )\n",
    "        print('\\nNetwork policy created:')\n",
    "        print(response)\n",
    "    except botocore.exceptions.ClientError as error:\n",
    "        if error.response['Error']['Code'] == 'ConflictException':\n",
    "            print(\n",
    "                '[ConflictException] A network policy with this name already exists.')\n",
    "        else:\n",
    "            raise error\n",
    "\n",
    "\n",
    "def createAccessPolicy(client):\n",
    "    try:\n",
    "        response = client.create_access_policy(\n",
    "            description='Data access policy for RAG collections',\n",
    "            name='rag-policy',\n",
    "            policy=\"\"\"\n",
    "                [{\n",
    "                    \\\"Rules\\\":[\n",
    "                        {\n",
    "                            \\\"Resource\\\":[\n",
    "                                \\\"index\\/rag-*\\/*\\\"\n",
    "                            ],\n",
    "                            \\\"Permission\\\":[\n",
    "                                \\\"aoss:CreateIndex\\\",\n",
    "                                \\\"aoss:DeleteIndex\\\",\n",
    "                                \\\"aoss:UpdateIndex\\\",\n",
    "                                \\\"aoss:DescribeIndex\\\",\n",
    "                                \\\"aoss:ReadDocument\\\",\n",
    "                                \\\"aoss:WriteDocument\\\"\n",
    "                            ],\n",
    "                            \\\"ResourceType\\\": \\\"index\\\"\n",
    "                        },\n",
    "                        {\n",
    "                            \\\"Resource\\\":[\n",
    "                                \\\"collection\\/rag-*\\\"\n",
    "                            ],\n",
    "                            \\\"Permission\\\":[\n",
    "                                \\\"aoss:CreateCollectionItems\\\"\n",
    "                            ],\n",
    "                            \\\"ResourceType\\\": \\\"collection\\\"\n",
    "                        }\n",
    "                    ],\n",
    "                    \\\"Principal\\\":[\n",
    "                        \\\"arn:aws:iam::646932767172:role/RAGrol\"\n",
    "                    ]\n",
    "                }]\n",
    "                \"\"\",\n",
    "            type='data'\n",
    "        )\n",
    "        print('\\nAccess policy created:')\n",
    "        print(response)\n",
    "    except botocore.exceptions.ClientError as error:\n",
    "        if error.response['Error']['Code'] == 'ConflictException':\n",
    "            print(\n",
    "                '[ConflictException] An access policy with this name already exists.')\n",
    "        else:\n",
    "            raise error\n",
    "\n",
    "\n",
    "def createCollection(client):\n",
    "    \"\"\"Creates a collection\"\"\"\n",
    "    try:\n",
    "        response = client.create_collection(\n",
    "            name='rag-maintenance-collection',\n",
    "            type='VECTORSEARCH'\n",
    "        )\n",
    "        return(response)\n",
    "    except botocore.exceptions.ClientError as error:\n",
    "        if error.response['Error']['Code'] == 'ConflictException':\n",
    "            print(\n",
    "                '[ConflictException] A collection with this name already exists. Try another name.')\n",
    "        else:\n",
    "            raise error\n",
    "\n",
    "\n",
    "def waitForCollectionCreation(client):\n",
    "    \"\"\"Waits for the collection to become active\"\"\"\n",
    "    response = client.batch_get_collection(\n",
    "        names=['rag-maintenance-collection'])\n",
    "    # Periodically check collection status\n",
    "    while (response['collectionDetails'][0]['status']) == 'CREATING':\n",
    "        print('Creating collection...')\n",
    "        time.sleep(30)\n",
    "        response = client.batch_get_collection(\n",
    "            names=['rag-maintenance-collection'])\n",
    "    print('\\nCollection successfully created:')\n",
    "    print(response[\"collectionDetails\"])\n",
    "    host = (response['collectionDetails'][0]['collectionEndpoint'])\n",
    "    final_host = host.replace(\"https://\", \"\")\n",
    "    print('host', final_host)\n",
    "\n",
    "\n",
    "def main():\n",
    "    createEncryptionPolicy(client)\n",
    "    createNetworkPolicy(client)\n",
    "    createAccessPolicy(client)\n",
    "    createCollection(client)\n",
    "    waitForCollectionCreation(client)\n",
    "\n",
    "\n",
    "if __name__ == \"__main__\":\n",
    "    main()"
   ]
  },
  {
   "cell_type": "code",
   "execution_count": 95,
   "id": "cf3f97eb",
   "metadata": {},
   "outputs": [],
   "source": [
    "def split_text_pdf(data):\n",
    "    text_splitter = RecursiveCharacterTextSplitter(\n",
    "    chunk_size = 1500,\n",
    "    chunk_overlap  = 150)\n",
    "    text_chunks = text_splitter.create_documents([data])\n",
    "    return text_chunks"
   ]
  },
  {
   "cell_type": "code",
   "execution_count": 122,
   "id": "1ae03348",
   "metadata": {},
   "outputs": [],
   "source": [
    "s3 = boto3.client('s3')\n",
    "\n",
    "bucket_name = 'maintenance-documentation-rag'\n",
    "\n",
    "def process_pd_documents(bucket_name):\n",
    "    texts = []\n",
    "    objects = s3.list_objects_v2(Bucket=bucket_name)['Contents']\n",
    "    for obj in objects:\n",
    "        key = obj['Key']\n",
    "        if key.endswith(\".pdf\"):\n",
    "            title = key[0:-4]\n",
    "            pdf_response = s3_client.get_object(Bucket=bucket_name, Key=pdf_file)\n",
    "            file_content = pdf_response['Body'].read()\n",
    "            pdf_text = \"\"\n",
    "            with pdfplumber.open(io.BytesIO(file_content)) as pdf:\n",
    "                for page in pdf.pages:\n",
    "                    pdf_text += page.extract_text()\n",
    "                    pdf_text = pdf_text.replace(\".\",\"\")\n",
    "                    chunks = split_text_pdf(pdf_text)\n",
    "                    for chunk_index, chunk in enumerate(chunks):\n",
    "                        entry = {'title': title, 'text': chunk.page_content}\n",
    "                        texts.append(entry)\n",
    "    df = pd.DataFrame(texts)\n",
    "    return df"
   ]
  },
  {
   "cell_type": "code",
   "execution_count": 124,
   "id": "12827e39",
   "metadata": {},
   "outputs": [],
   "source": [
    "df = process_pd_documents(bucket_name)"
   ]
  },
  {
   "cell_type": "code",
   "execution_count": 125,
   "id": "21dc83df",
   "metadata": {},
   "outputs": [],
   "source": [
    "def clean_text(df):\n",
    "    df = df.fillna('.')\n",
    "    df = df.replace('\\n',' ', regex=True)\n",
    "    df = df.replace('#',' ', regex=True)\n",
    "    df = df.replace('-',' ', regex=True)\n",
    "    df = df.replace('__',' ', regex=True)\n",
    "    df = df.replace('@',' ', regex=True)\n",
    "    df = df.replace('/',' ', regex=True)\n",
    "    df = df.replace('`',' ', regex=True)\n",
    "    df = df.replace(' +',' ', regex=True)\n",
    "    df = df.replace('>',' ', regex=True)\n",
    "    df = df.replace('<',' ', regex=True)\n",
    "    df = df.replace('{',' ', regex=True)\n",
    "    df = df.replace('}',' ', regex=True)\n",
    "    df = df.replace('!',' ', regex=True)\n",
    "    df = df.replace('[^\\w\\s]','', regex=True)\n",
    "    return df"
   ]
  },
  {
   "cell_type": "code",
   "execution_count": 126,
   "id": "65a48e4f",
   "metadata": {},
   "outputs": [],
   "source": [
    "df = clean_text(df)"
   ]
  },
  {
   "cell_type": "code",
   "execution_count": 127,
   "id": "d16d4bab",
   "metadata": {},
   "outputs": [
    {
     "data": {
      "text/html": [
       "<div>\n",
       "<style scoped>\n",
       "    .dataframe tbody tr th:only-of-type {\n",
       "        vertical-align: middle;\n",
       "    }\n",
       "\n",
       "    .dataframe tbody tr th {\n",
       "        vertical-align: top;\n",
       "    }\n",
       "\n",
       "    .dataframe thead th {\n",
       "        text-align: right;\n",
       "    }\n",
       "</style>\n",
       "<table border=\"1\" class=\"dataframe\">\n",
       "  <thead>\n",
       "    <tr style=\"text-align: right;\">\n",
       "      <th></th>\n",
       "      <th>title</th>\n",
       "      <th>text</th>\n",
       "    </tr>\n",
       "  </thead>\n",
       "  <tbody>\n",
       "    <tr>\n",
       "      <th>0</th>\n",
       "      <td>1 NORMA IEC 60300 3 11 RCM Guia de Aplicación ...</td>\n",
       "      <td>INTERNATIONAL ISO STANDARD 17359 Third edition...</td>\n",
       "    </tr>\n",
       "    <tr>\n",
       "      <th>1</th>\n",
       "      <td>1 NORMA IEC 60300 3 11 RCM Guia de Aplicación ...</td>\n",
       "      <td>INTERNATIONAL ISO STANDARD 17359 Third edition...</td>\n",
       "    </tr>\n",
       "    <tr>\n",
       "      <th>2</th>\n",
       "      <td>1 NORMA IEC 60300 3 11 RCM Guia de Aplicación ...</td>\n",
       "      <td>INTERNATIONAL ISO STANDARD 17359 Third edition...</td>\n",
       "    </tr>\n",
       "    <tr>\n",
       "      <th>3</th>\n",
       "      <td>1 NORMA IEC 60300 3 11 RCM Guia de Aplicación ...</td>\n",
       "      <td>61 Identification of equipment 3 62 Identifica...</td>\n",
       "    </tr>\n",
       "    <tr>\n",
       "      <th>4</th>\n",
       "      <td>1 NORMA IEC 60300 3 11 RCM Guia de Aplicación ...</td>\n",
       "      <td>INTERNATIONAL ISO STANDARD 17359 Third edition...</td>\n",
       "    </tr>\n",
       "  </tbody>\n",
       "</table>\n",
       "</div>"
      ],
      "text/plain": [
       "                                               title  \\\n",
       "0  1 NORMA IEC 60300 3 11 RCM Guia de Aplicación ...   \n",
       "1  1 NORMA IEC 60300 3 11 RCM Guia de Aplicación ...   \n",
       "2  1 NORMA IEC 60300 3 11 RCM Guia de Aplicación ...   \n",
       "3  1 NORMA IEC 60300 3 11 RCM Guia de Aplicación ...   \n",
       "4  1 NORMA IEC 60300 3 11 RCM Guia de Aplicación ...   \n",
       "\n",
       "                                                text  \n",
       "0  INTERNATIONAL ISO STANDARD 17359 Third edition...  \n",
       "1  INTERNATIONAL ISO STANDARD 17359 Third edition...  \n",
       "2  INTERNATIONAL ISO STANDARD 17359 Third edition...  \n",
       "3  61 Identification of equipment 3 62 Identifica...  \n",
       "4  INTERNATIONAL ISO STANDARD 17359 Third edition...  "
      ]
     },
     "execution_count": 127,
     "metadata": {},
     "output_type": "execute_result"
    }
   ],
   "source": [
    "df.head()"
   ]
  },
  {
   "cell_type": "code",
   "execution_count": 131,
   "id": "c799aca7",
   "metadata": {},
   "outputs": [
    {
     "name": "stdout",
     "output_type": "stream",
     "text": [
      "page_content='INTERNATIONAL ISO STANDARD 17359 Third edition 2018 01 Condition monitoring and diagnostics of machines  General guidelines Surveillance et diagnostic détat des machines  Lignes directrices générales Reference number ISO 173592018E  ISO 2018 Provided by IHS Markit under license with ANSI' metadata={'title': '1 NORMA IEC 60300 3 11 RCM Guia de Aplicación Mantenimiento Centrado en la Fiabilidad'}\n"
     ]
    }
   ],
   "source": [
    "loader = DataFrameLoader(df, page_content_column=\"text\")\n",
    "docs = loader.load()\n",
    "for i in loader.lazy_load():\n",
    "    print(i)\n",
    "    break\n",
    "for doc in docs:\n",
    "    doc.metadata = {k: (v if not (isinstance(v, float) and math.isnan(v)) else \"null\") for k, v in doc.metadata.items()}"
   ]
  },
  {
   "cell_type": "code",
   "execution_count": 132,
   "id": "03cbe9ca",
   "metadata": {},
   "outputs": [],
   "source": [
    "import boto3\n",
    "from langchain.embeddings import BedrockEmbeddings\n",
    "\n",
    "bedrock_client = boto3.client(service_name='bedrock-runtime', \n",
    "                              region_name='us-east-1')\n",
    "embeddings = BedrockEmbeddings(model_id=\"amazon.titan-embed-text-v1\",\n",
    "                                       client=bedrock_client)"
   ]
  },
  {
   "cell_type": "code",
   "execution_count": 133,
   "id": "3ef97431",
   "metadata": {},
   "outputs": [],
   "source": [
    "aoss_endpoint = os.environ.get(\"AOSS_ENDPOINT\", \"default_endpoint\")"
   ]
  },
  {
   "cell_type": "code",
   "execution_count": 134,
   "id": "eceb2627",
   "metadata": {},
   "outputs": [],
   "source": [
    "region = 'us-east-1'\n",
    "service = 'aoss'\n",
    "credentials = boto3.Session().get_credentials()\n",
    "auth = AWSV4SignerAuth(credentials, region, service)\n",
    "aoss_client = OpenSearch(\n",
    "    hosts=[{'host': aoss_endpoint, 'port': 443}],\n",
    "    http_auth=auth,\n",
    "    use_ssl=True,\n",
    "    verify_certs=True,\n",
    "    connection_class=RequestsHttpConnection\n",
    ")"
   ]
  },
  {
   "cell_type": "code",
   "execution_count": 135,
   "id": "1fadd78c",
   "metadata": {},
   "outputs": [],
   "source": [
    "index_name = 'rag-maintenance-doc'"
   ]
  },
  {
   "cell_type": "code",
   "execution_count": 136,
   "id": "2bc54f2f",
   "metadata": {},
   "outputs": [],
   "source": [
    "documents = [docs]"
   ]
  },
  {
   "cell_type": "code",
   "execution_count": null,
   "id": "54039422",
   "metadata": {},
   "outputs": [
    {
     "name": "stdout",
     "output_type": "stream",
     "text": [
      ".CPU times: user 57.9 s, sys: 3.07 s, total: 1min\n",
      "Wall time: 33min 7s\n"
     ]
    }
   ],
   "source": [
    "%%time\n",
    "\n",
    "for docs in documents:\n",
    "    oss = OpenSearchVectorSearch.from_documents(\n",
    "        docs,\n",
    "        embeddings,\n",
    "        opensearch_url=f'https://{aoss_endpoint}:443',\n",
    "        http_auth=auth,\n",
    "        use_ssl=True,\n",
    "        verify_certs=True,\n",
    "        connection_class=RequestsHttpConnection,\n",
    "        index_name=index_name,\n",
    "        bulk_size=20000,\n",
    "        timeout=400,\n",
    "    )\n",
    "    print(\".\", end=\"\")"
   ]
  },
  {
   "cell_type": "code",
   "execution_count": 140,
   "id": "72af9556",
   "metadata": {},
   "outputs": [],
   "source": [
    "docsearch = OpenSearchVectorSearch(\n",
    "    index_name=index_name,\n",
    "    embedding_function=embeddings,\n",
    "    opensearch_url=f'https://{aoss_endpoint}:443',\n",
    "    http_auth=auth,\n",
    "    is_aoss=True,\n",
    "    timeout = 60,\n",
    "    use_ssl = True,\n",
    "    verify_certs = True,\n",
    "    connection_class = RequestsHttpConnection)"
   ]
  },
  {
   "cell_type": "code",
   "execution_count": 50,
   "id": "1953bbe7",
   "metadata": {},
   "outputs": [],
   "source": [
    "retriever = docsearch.as_retriever(search_kwargs={\"k\": 5})"
   ]
  },
  {
   "cell_type": "code",
   "execution_count": 51,
   "id": "1691f15f",
   "metadata": {},
   "outputs": [],
   "source": [
    "query = \"Qué es el PEGA ?\""
   ]
  },
  {
   "cell_type": "code",
   "execution_count": 52,
   "id": "10425d41",
   "metadata": {},
   "outputs": [
    {
     "data": {
      "text/plain": [
       "[(Document(page_content='El PEGA es una pieza clave de información documentada que se utiliza para traducir los objetivos de la organización en objetivos de gestión de activos y proporcionar el marco para la planificación, la priorización y la toma de decisiones para la implementación de todas las demás actividades de gestión de activos para garantizar la alineación. Alinear los objetivos de gestión de activos con los objetivos de la organización, así como vincular los planes de portafolio de activos con los planes financieros, puede mejorar la efectividad y la eficiencia de la organización e informar las necesidades de financiamiento a largo plazo de la organización.\\n\\nLos requisitos para el PEGA están distribuidos en estas diversas subcláusulas de ISO 55001: 2014, 4.1, 4.3, 4.4, 5.1, 5.3, 6.2.1 y 6.2.2.\\n\\nEl PEGA puede tener un período de tiempo suficientemente largo para abordar la vida útil completa de los activos que podría extenderse más allá del propio período de tiempo de planificación de negocios de la organización. Este enfoque puede permitir a la organización planificar cómo va a cumplir sus objetivos organizacionales dentro de su período de responsabilidad del portafolio de activos, al mismo tiempo que permite la contextualización de decisiones a corto plazo con necesidades de vida a largo plazo de los activos.', metadata={'source': 's3://maintenance-documentation-rag/ISO 55000 - 55001 - 55002.pdf'}),\n",
       "  0.005783287),\n",
       " (Document(page_content='El público objetivo del PEGA está destinado a ser la alta gerencia, las partes interesadas clave y aquellos involucrados en el desarrollo e implementación del PEGA y los planes de gestión de activos. Se anticipa que las organizaciones comenzarán con un PEGA básico y madurarán progresivamente para abordar las áreas recomendadas en este anexo. C.2 Propósito de un PEGA\\n\\nDe acuerdo con la definición en ISO 55000 y los requisitos en ISO 55001, el PEGA debe cumplir una serie de propósitos:\\n\\na) detallar en la información documentada el papel de los activos, la gestión de activos y el sistema de gestión de activos para respaldar el logro de los objetivos de la organización y proporcionar claridad y orientación a todos los miembros de la organización, desde la alta dirección hasta los equipos de ejecución;\\n\\nb)\\n\\ntraducir los objetivos organizacionales en objetivos de gestión de activos estratégicos y conciliarlos con otros objetivos estratégicos que pueden tener un impacto en los activos y la gestión de activos;\\n\\nc) guiar el enfoque para desarrollar los planes de gestión de activos y el sistema de gestión de activos,\\n\\nmientras se aplica la política de gestión de activos para asegurar la alineación;\\n\\nd) documentar los criterios de toma de decisiones (ver Anexo D) que permiten la definición de la\\n\\nrealización de valor para la organización y sus partes interesadas y el enfoque coordinado para la evaluación del desempeño;', metadata={'source': 's3://maintenance-documentation-rag/ISO 55000 - 55001 - 55002.pdf'}),\n",
       "  0.0053102407),\n",
       " (Document(page_content='Refs GA PGA PEGA\\n\\nLos números de la cláusula en la Figura C.1 se relacionan con ISO 55001. Gestión de activos Plan de gestión de activos plan estratégico de gestión de activos\\n\\nFigura C.1 - Diagrama del concepto PEGA\\n\\n115\\n\\nC.4 Contenido de un PEGA\\n\\nSe pretende que el PEGA sea información documentada a nivel ejecutivo que presente una descripción de por qué y qué planea hacer la organización en la gestión de su portafolio de activos y el desarrollo de su capacidad de gestión de activos, para permitir el logro de los objetivos de la organización; También puede proporcionar referencias a otra información documentada, para obtener información u orientación detallada.\\n\\nLa necesidad de información documentada que proporcione los fundamentos, enfoques, procesos, procedimientos y métodos utilizados para desarrollar el PEGA como parte del sistema de gestión de activos de la organización debe determinarse de acuerdo con los requisitos de ISO 55001: 2014, 7.5 y 7.6.1.\\n\\nLa organización debe determinar las áreas que deben abordarse y el nivel de detalle para que el PEGA satisfaga sus necesidades específicas. A continuación, se recomienda una lista de áreas clave que pueden abordarse en un PEGA para cumplir con los propósitos indicados en A.2 (las áreas requeridas para ser tratadas por ISO 55001 se indican entre paréntesis):\\n\\na) un resumen ejecutivo que proporciona los temas clave, la justificación y los aspectos destacados del\\n\\nPEGA para la alta dirección y otros interesados clave;', metadata={'source': 's3://maintenance-documentation-rag/ISO 55000 - 55001 - 55002.pdf'}),\n",
       "  0.0052667335),\n",
       " (Document(page_content='Al desarrollar su PEGA, la organización debe considerar, entre otras cosas: a) el contexto de la organización, ver 4.1;\\n\\nb) las expectativas y los requisitos de las partes interesadas, incluido el valor de las partes interesadas, ver 4.2 y el Anexo A;\\n\\nc) actividades que pueden extenderse más allá del marco de tiempo de planificación rutinario de la organización, y que deben ser objeto de revisión periódica;\\n\\nd) el alcance del sistema de gestión de activos, ver 4.3 y Anexo B;\\n\\ne) Los recursos financieros, humanos y otros disponibles.\\n\\nLa organización debe revisar regularmente esta información y adaptar el PEGA cuando sea necesario.\\n\\nUna de las funciones del PEGA debe ser un plan de alto nivel que:\\n\\ntraduce los objetivos de la organización en objetivos de gestión de activos;\\n\\nidentifica y define los procesos que utiliza la organización para establecer sus criterios de toma de decisiones relacionadas con los activos (ver Anexo D);\\n\\nguía el desarrollo del plan o planes de gestión de activos, que deben establecer las actividades a nivel de activos. El (los) plan (es) de gestión de activos se pueden colocar en cascada en múltiples niveles en grandes organizaciones o en organizaciones con carteras de activos complejas.\\n\\nDebe haber alineación y consistencia entre:\\n\\nlos objetivos organizacionales;\\n\\nla política de gestión de activos;\\n\\nel PEGA;\\n\\nlos objetivos de gestión de activos;', metadata={'source': 's3://maintenance-documentation-rag/ISO 55000 - 55001 - 55002.pdf'}),\n",
       "  0.004982716),\n",
       " (Document(page_content='NOTA 2 Un plan estratégico para la gestión de activos puede citarse con otros nombres, por ejemplo, una estrategia para la gestión de activos.\\n\\nEl PEGA de una organización debería utilizarse para guiar la definición de sus objetivos organizacionales y para describir el rol del sistema de gestión de activos para alcanzar dichos objetivos. Esto incluye las estructuras, roles y responsabilidades necesarias para establecer el sistema de gestión de activos y operarlo eficazmente. El apoyo de las partes interesadas, la gestión del riesgo y la mejora continua son temas importantes que deben tratarse al establecer y operar el sistema de gestión de activos. El PEGA puede tener diferentes períodos de tiempo que se extiendan más allá de períodos de tiempo de planificación de negocio propios de la organización, requiriendo que el sistema de gestión de activos aborde toda la vida de los activos.\\n\\nLa organización también debería utilizar el PEGA para guiar su sistema de gestión de activos en el desarrollo de sus planes de gestión de activos (es decir, en establecer qué hacer). Los planes de gestión de activos por sí mismos deberían definir las actividades a emprender sobre los activos y deberían tener objetivos específicos y medibles (por ejemplo, marcos temporales y recursos a utilizar). Estos objetivos pueden proporcionar la oportunidad para alinear los planes operativos con el plan organizacional y con cualquier plan a nivel de unidad de negocio.', metadata={'source': 's3://maintenance-documentation-rag/ISO 55000 - 55001 - 55002.pdf'}),\n",
       "  0.0045124134)]"
      ]
     },
     "execution_count": 52,
     "metadata": {},
     "output_type": "execute_result"
    }
   ],
   "source": [
    "documents_retrieved = docsearch.similarity_search_with_score(query, k=5)\n",
    "documents_retrieved"
   ]
  }
 ],
 "metadata": {
  "kernelspec": {
   "display_name": "conda_python3",
   "language": "python",
   "name": "conda_python3"
  },
  "language_info": {
   "codemirror_mode": {
    "name": "ipython",
    "version": 3
   },
   "file_extension": ".py",
   "mimetype": "text/x-python",
   "name": "python",
   "nbconvert_exporter": "python",
   "pygments_lexer": "ipython3",
   "version": "3.10.13"
  }
 },
 "nbformat": 4,
 "nbformat_minor": 5
}
